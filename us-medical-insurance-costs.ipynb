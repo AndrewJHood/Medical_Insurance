{
 "cells": [
  {
   "cell_type": "markdown",
   "metadata": {},
   "source": [
    "# U.S. Medical Insurance Costs"
   ]
  },
  {
   "cell_type": "code",
   "execution_count": 1,
   "metadata": {},
   "outputs": [],
   "source": [
    "import csv"
   ]
  },
  {
   "cell_type": "code",
   "execution_count": 2,
   "metadata": {},
   "outputs": [],
   "source": [
    "insurance_list = []\n",
    "columns = []\n",
    "ages = []\n",
    "regions_unique = []\n",
    "regions = []\n",
    "bmis = []\n",
    "costs = []\n",
    "genders = []\n",
    "smoker = []\n",
    "children = []\n",
    "with open(\"insurance.csv\") as insurance_csv:\n",
    "    insurance_dict = csv.DictReader(insurance_csv)\n",
    "    for row in insurance_dict:\n",
    "        insurance_list.append(row)\n",
    "        if columns == []:\n",
    "            columns = list(row.keys())\n",
    "        ages.append(row['age'])\n",
    "        regions.append(row['region'])\n",
    "        if not row['region'] in regions_unique:\n",
    "            regions_unique.append(row['region'])\n",
    "        bmis.append(row['bmi'])\n",
    "        costs.append(row['charges'])\n",
    "        genders.append(row['sex'])\n",
    "        smoker.append(row['smoker'])\n",
    "        children.append(row['children'])"
   ]
  },
  {
   "cell_type": "code",
   "execution_count": 3,
   "metadata": {
    "scrolled": true
   },
   "outputs": [
    {
     "name": "stdout",
     "output_type": "stream",
     "text": [
      "{'male': 0.5052316890881914, 'female': 0.4947683109118087}\n"
     ]
    }
   ],
   "source": [
    "# I want to know if the dataset has roughly the same number of males and females\n",
    "def get_gender_ratio(gender_list):\n",
    "    male = 0\n",
    "    female = 0\n",
    "    for sex in gender_list:\n",
    "        if(sex =='male'):\n",
    "            male += 1\n",
    "        elif(sex == 'female'):\n",
    "            female += 1\n",
    "    return {'male': male/len(gender_list), 'female': female/len(gender_list)}\n",
    "print(get_gender_ratio(genders))"
   ]
  },
  {
   "cell_type": "code",
   "execution_count": 10,
   "metadata": {},
   "outputs": [
    {
     "name": "stdout",
     "output_type": "stream",
     "text": [
      "There are 159 male smokers and 115 female smokers\n"
     ]
    }
   ],
   "source": [
    "# I want to know if there are more male smokers than female\n",
    "def calc_gender_smoker_ratio(gen_list, smok_list):\n",
    "    male_smokers = 0\n",
    "    female_smokers = 0\n",
    "    for index in range(len(gen_list)):\n",
    "        if gen_list[index] == 'male':\n",
    "            if smok_list[index] == 'yes':\n",
    "                male_smokers += 1\n",
    "        elif gen_list[index] == 'female':\n",
    "            if smok_list[index] == 'yes':\n",
    "                female_smokers += 1\n",
    "    return {'male-smokers': male_smokers, 'female-smokers': female_smokers}\n",
    "gen_smokers = calc_gender_smoker_ratio(genders, smoker)\n",
    "print(\"There are {} male smokers and {} female smokers\".format(gen_smokers['male-smokers'], gen_smokers['female-smokers']))"
   ]
  },
  {
   "cell_type": "code",
   "execution_count": 18,
   "metadata": {},
   "outputs": [
    {
     "name": "stdout",
     "output_type": "stream",
     "text": [
      "The average bmi for someone with children is 30.75 while the average for someone with no children is 30.55.\n"
     ]
    }
   ],
   "source": [
    "# I want to know if the average bmi for people with children is higher than those without children\n",
    "def avg_bmi_children(bmi_list, child_list):\n",
    "    children_bmis = []\n",
    "    no_children_bmis = []\n",
    "    child_total = 0\n",
    "    no_child_total = 0\n",
    "    for index in range(len(bmi_list)):\n",
    "        if int(child_list[index]) > 0:\n",
    "            children_bmis.append(bmi_list[index])\n",
    "            child_total += float(bmi_list[index])\n",
    "        elif int(child_list[index]) == 0:\n",
    "            no_children_bmis.append(bmi_list[index])\n",
    "            no_child_total += float(bmi_list[index])\n",
    "    return {'children': round(child_total/len(children_bmis), 2), 'no_children': round(no_child_total/len(no_children_bmis),2)}\n",
    "bmi_children_avgs = avg_bmi_children(bmis, children)\n",
    "print(\"The average bmi for someone with children is {} while the average for someone with no children is {}.\".format(bmi_children_avgs['children'],bmi_children_avgs['no_children']))"
   ]
  },
  {
   "cell_type": "code",
   "execution_count": 42,
   "metadata": {},
   "outputs": [
    {
     "name": "stdout",
     "output_type": "stream",
     "text": [
      "Average cost for the southwest region is $12346.94\n",
      "Average cost for the southeast region is $14735.41\n",
      "Average cost for the northwest region is $12417.58\n",
      "Average cost for the northeast region is $13406.38\n"
     ]
    }
   ],
   "source": [
    "# I want to know the average insurance cost for each region\n",
    "def avg_cost_per_region(cost_list, region_list):\n",
    "    totals = {'southwest': 0, 'southeast': 0, 'northwest':0, 'northeast':0}\n",
    "    entries = {'southwest': 0, 'southeast': 0, 'northwest':0, 'northeast':0}\n",
    "    for index in range(len(region_list)):\n",
    "        totals[region_list[index]] += float(cost_list[index])\n",
    "        entries[region_list[index]] += 1\n",
    "    \n",
    "    avgs = {'southwest': totals['southwest']/entries['southwest'], 'southeast': totals['southeast']/entries['southeast'], 'northwest':totals['northwest']/entries['northwest'], 'northeast':totals['northeast']/entries['northeast']}\n",
    "    return avgs\n",
    "average_costs_per_region = avg_cost_per_region(costs, regions)\n",
    "for region in regions_unique:\n",
    "    print(\"Average cost for the {} region is ${}\".format(region,round(average_costs_per_region[region],2)))"
   ]
  },
  {
   "cell_type": "code",
   "execution_count": 37,
   "metadata": {},
   "outputs": [
    {
     "name": "stdout",
     "output_type": "stream",
     "text": [
      "The average cost of insurance is $13270.42 while the IQR average is $12646.67.\n"
     ]
    }
   ],
   "source": [
    "# I want to know if the average and the IQR average of the costs list are similar\n",
    "def get_iqr_avg(cost_list):\n",
    "    length = len(cost_list)\n",
    "    iqr_values = cost_list[int(length/4)-1:int(length-length/4)-1]\n",
    "    iqr_total = 0\n",
    "    for value in iqr_values:\n",
    "        iqr_total += float(value)\n",
    "    return iqr_total/len(iqr_values)\n",
    "iqr_avg = get_iqr_avg(costs)\n",
    "def get_avg(values):\n",
    "    total = 0\n",
    "    for value in values:\n",
    "        total += float(value)\n",
    "    return total/len(values)\n",
    "avg = get_avg(costs)\n",
    "print(\"The average cost of insurance is ${} while the IQR average is ${}.\".format(round(avg, 2), round(iqr_avg, 2)))"
   ]
  },
  {
   "cell_type": "code",
   "execution_count": 41,
   "metadata": {},
   "outputs": [
    {
     "name": "stdout",
     "output_type": "stream",
     "text": [
      "The median insurance cost is $6500.24 while the median of the IQR is $8703.46\n"
     ]
    }
   ],
   "source": [
    "# I want to know if the median and the median of the IQR are similar\n",
    "def iqr_med(cost_list):\n",
    "    length = len(cost_list)\n",
    "    iqr_values = cost_list[int(length/4)-1:int(length-length/4)-1]\n",
    "    return iqr_values[int(len(iqr_values)/2) -1]\n",
    "iqr_median = iqr_med(costs)\n",
    "def med(values):\n",
    "    return values[int(len(values)/2)]\n",
    "median = med(costs)\n",
    "print(\"The median insurance cost is ${} while the median of the IQR is ${}\".format(round(float(median),2), round(float(iqr_median),2)))"
   ]
  }
 ],
 "metadata": {
  "kernelspec": {
   "display_name": "Python 3",
   "language": "python",
   "name": "python3"
  },
  "language_info": {
   "codemirror_mode": {
    "name": "ipython",
    "version": 3
   },
   "file_extension": ".py",
   "mimetype": "text/x-python",
   "name": "python",
   "nbconvert_exporter": "python",
   "pygments_lexer": "ipython3",
   "version": "3.8.8"
  }
 },
 "nbformat": 4,
 "nbformat_minor": 4
}
